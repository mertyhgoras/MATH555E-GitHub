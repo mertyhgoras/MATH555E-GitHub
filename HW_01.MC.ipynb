{
 "cells": [
  {
   "cell_type": "markdown",
   "metadata": {},
   "source": [
    "# Question 1\n",
    "\n",
    "Write a python function that returns $2\\sin(x^2) + \\ln(|x|) + 1$ for a given real number $x$."
   ]
  },
  {
   "cell_type": "code",
   "execution_count": 73,
   "metadata": {},
   "outputs": [
    {
     "data": {
      "text/plain": [
       "6.396803930506096"
      ]
     },
     "execution_count": 73,
     "metadata": {},
     "output_type": "execute_result"
    }
   ],
   "source": [
    "#MERT CAN 509191237\n",
    "\n",
    "import numpy as np \n",
    "\n",
    "def calc(x):\n",
    "    a=2*np.sin(x**2)+np.log(abs(x))+1\n",
    "    return a\n",
    "\n",
    "calc(30)"
   ]
  },
  {
   "cell_type": "markdown",
   "metadata": {},
   "source": [
    "# Question 2\n",
    "\n",
    "Write a python function that takes\n",
    "\n",
    "* A function `f(x)`\n",
    "* A pair of real numbers `(a,b)`\n",
    "* An integer `N`\n",
    "\n",
    "as input and returns the Riemann sum of `f(x)` on the interval `[a,b]` with `N` equal subdivisions."
   ]
  },
  {
   "cell_type": "code",
   "execution_count": 71,
   "metadata": {},
   "outputs": [
    {
     "name": "stdout",
     "output_type": "stream",
     "text": [
      "Partition with 10 subintervals.\n",
      "Left Riemann Sum: 2.5678319285408007\n",
      "Midpoint Riemann Sum: 0.789928371425539\n",
      "Right Riemann Sum: 2.6787504727349085\n"
     ]
    }
   ],
   "source": [
    "import numpy as np\n",
    "import matplotlib.pyplot as plt\n",
    "%matplotlib inline\n",
    "\n",
    "a = 0\n",
    "b = 24\n",
    "n = 10\n",
    "h = (b - a) / (n - 1)\n",
    "x = np.linspace(a, b, n)\n",
    "f =  x/(1+x**2)\n",
    "\n",
    "I_riemannL = h * sum(f[:n-1])\n",
    "\n",
    "\n",
    "I_riemannR = h * sum(f[1::])\n",
    "\n",
    "\n",
    "I_mid = h * sum(np.sin((x[:n-1] \\\n",
    "        + x[1:])/2))\n",
    "\n",
    "print(\"Partition with\",n,\"subintervals.\")\n",
    "\n",
    "print(\"Left Riemann Sum:\",I_riemannL)\n",
    "\n",
    "print(\"Midpoint Riemann Sum:\",I_mid)\n",
    "\n",
    "print(\"Right Riemann Sum:\",I_riemannR)\n",
    "\n",
    "\n",
    "\n"
   ]
  },
  {
   "cell_type": "markdown",
   "metadata": {},
   "source": [
    "# Question 3\n",
    "\n",
    "* Pull 100 uniformly random numbers from the interval $[0,1]$ as an array `xs`.\n",
    "* Add 0 at the beginning of the array, and 1.0 at the end.\n",
    "* Sort the array `xs` from smallest to the largest.\n",
    "* Calculate its discrete derivative `ys`, i.e. let $y_i = x_{i+1} - x_i$"
   ]
  },
  {
   "cell_type": "code",
   "execution_count": 23,
   "metadata": {},
   "outputs": [
    {
     "data": {
      "text/plain": [
       "[0.007405463009235502,\n",
       " 0.0005789964235481948,\n",
       " 0.011703986255372278,\n",
       " 0.042975843879925146,\n",
       " 0.01571482383321643,\n",
       " 0.006796753847735704,\n",
       " 0.0008271108545411243,\n",
       " 0.018499943181637724,\n",
       " 0.0067750594874951275,\n",
       " 0.006426376856949245,\n",
       " 0.011611355124217293,\n",
       " 0.02209495046949017,\n",
       " 0.0032110917332578426,\n",
       " 0.0013798878290545158,\n",
       " 0.018538848673492203,\n",
       " 0.018284306442728493,\n",
       " 0.0009287524006936776,\n",
       " 0.011391680269277504,\n",
       " 0.004162209532127759,\n",
       " 0.002541042122520043,\n",
       " 0.0019025771380271062,\n",
       " 0.02433256037856235,\n",
       " 0.005399985903242643,\n",
       " 0.006371930409828863,\n",
       " 0.008448909940968696,\n",
       " 0.0041098242016145425,\n",
       " 0.02129128175840278,\n",
       " 0.006340249464958592,\n",
       " 0.013294863029459258,\n",
       " 0.008814287693843736,\n",
       " 0.0004165878360633535,\n",
       " 0.010162768473898187,\n",
       " 0.03359943725174053,\n",
       " 0.01900478443251008,\n",
       " 0.002927848617332418,\n",
       " 0.004508578633480309,\n",
       " 0.007942006096549381,\n",
       " 0.009418656355647315,\n",
       " 0.013167503882138498,\n",
       " 0.048395684165087216,\n",
       " 0.0180282482234001,\n",
       " 0.003357740768403006,\n",
       " 0.004529979597047373,\n",
       " 0.001836520182936452,\n",
       " 0.01068048752370876,\n",
       " 0.04147407224484145,\n",
       " 0.0017106404047422252,\n",
       " 0.006054242482845029,\n",
       " 0.0022925819604429076,\n",
       " 0.003023840771584352,\n",
       " 0.016396466961280165,\n",
       " 0.016034930873156106,\n",
       " 0.0012290941766502916,\n",
       " 0.0009187604850081632,\n",
       " 0.0022246224759465694,\n",
       " 0.0007502845248578138,\n",
       " 0.008717669959731666,\n",
       " 0.0038683037122694275,\n",
       " 0.016914850666913783,\n",
       " 0.00355320646034496,\n",
       " 0.032606373821756685,\n",
       " 0.0010738803142965603,\n",
       " 0.029121203873762713,\n",
       " 0.012144493099786935,\n",
       " 0.0010316036588228217,\n",
       " 0.04575640148165061,\n",
       " 0.023066460517885412,\n",
       " 0.0031840462725639673,\n",
       " 0.005939607207690378,\n",
       " 0.000991550770896743,\n",
       " 0.0027032823303935194,\n",
       " 0.023622498648889545,\n",
       " 0.01359541192230207,\n",
       " 0.009119480566406768,\n",
       " 0.022151542115582457,\n",
       " 0.004271701266095551,\n",
       " 0.006370751008549225,\n",
       " 0.0052427531160905705,\n",
       " 7.470215141758274e-05,\n",
       " 0.0057132541196398545,\n",
       " 0.002883144829666451,\n",
       " 0.0041465649098757495,\n",
       " 0.00039908061949556206,\n",
       " 0.014057703500019336,\n",
       " 0.0005482273059709275,\n",
       " 0.007603598693596947,\n",
       " 0.002582962706973002,\n",
       " 0.008480843923206027,\n",
       " 0.008546990108575403,\n",
       " 0.004881768505869077,\n",
       " 0.009681095479412094,\n",
       " 0.0012243178006038358,\n",
       " 0.01672408186780583,\n",
       " 0.01096061029086548,\n",
       " 0.008027077589428444,\n",
       " 0.0008448512377255968,\n",
       " 0.0033143986433931127,\n",
       " 0.0012965689393417135,\n",
       " 0.00607989246411722]"
      ]
     },
     "execution_count": 23,
     "metadata": {},
     "output_type": "execute_result"
    }
   ],
   "source": [
    "import random \n",
    "np.random.seed()\n",
    "\n",
    "xs=np.random.random(100)\n",
    "xs=np.sort(xs)\n",
    "\n",
    "ys=[]\n",
    "for i in range(len(xs)):\n",
    "    if i==len(xs)-1:\n",
    "        break;\n",
    "    a=xs[i+1]-xs[i]\n",
    "    ys.append(a)\n",
    "ys"
   ]
  },
  {
   "cell_type": "markdown",
   "metadata": {},
   "source": [
    "# Question 4\n",
    "\n",
    "* Pull 100 uniformly random numbers from the interval $[0,1]$ into an array `xs`.\n",
    "* Pull 100 random numbers from the Gaussion distribution with $\\mu=0$ and $\\sigma=1.0$ into an array `ys`.\n",
    "* Scatter plot `xs` against `ys` using `matplotlib`\n"
   ]
  },
  {
   "cell_type": "code",
   "execution_count": 28,
   "metadata": {},
   "outputs": [
    {
     "data": {
      "text/plain": [
       "<matplotlib.collections.PathCollection at 0x1e7cf60e490>"
      ]
     },
     "execution_count": 28,
     "metadata": {},
     "output_type": "execute_result"
    },
    {
     "data": {
      "image/png": "[encoded data removed]",
      "text/plain": [
       "<Figure size 432x288 with 1 Axes>"
      ]
     },
     "metadata": {
      "needs_background": "light"
     },
     "output_type": "display_data"
    }
   ],
   "source": [
    "import matplotlib.pyplot as plt\n",
    "\n",
    "xs=np.random.random(100)\n",
    "ys=np.random.normal(loc=0,scale=1,size=100)\n",
    "plt.scatter(xs,ys)\n"
   ]
  },
  {
   "cell_type": "markdown",
   "metadata": {},
   "source": [
    "# Question 5\n",
    "\n",
    "Using the `numpy` library\n",
    "\n",
    "\n",
    "* Pull a random $100\\times 100$ matrix\n",
    "* Calculate its 100-th power\n",
    "* Calculate its eigen-values\n",
    "* Calculate is [Singular Value Decomposition](https://numpy.org/doc/stable/reference/generated/numpy.linalg.svd.html)"
   ]
  },
  {
   "cell_type": "code",
   "execution_count": 367,
   "metadata": {},
   "outputs": [],
   "source": [
    "matrix=np.random.random((100,100))\n",
    "matrix=np.linalg.matrix_power(matrix,100)\n",
    "w,v=np.linalg.eig(matrix)\n",
    "a=np.linalg.svd(v)"
   ]
  },
  {
   "cell_type": "markdown",
   "metadata": {},
   "source": [
    "# Question 6\n",
    "\n",
    "* Pull the text of a novel by Dickens from the website of [Gutenberg Project](https://www.gutenberg.org/)\n",
    "* Remove all non-alphanumeric characters \n",
    "* Split the text into words and convert them into lower case\n",
    "* Count the number of distinct words in the  text\n",
    "* Count how many times each word occurs within the text"
   ]
  },
  {
   "cell_type": "code",
   "execution_count": 4,
   "metadata": {
    "scrolled": false
   },
   "outputs": [
    {
     "name": "stdout",
     "output_type": "stream",
     "text": [
      "the : 36\n",
      "project : 4\n",
      "gutenberg : 4\n",
      "ebook : 7\n",
      "of : 32\n",
      "oliver : 24\n",
      "twist : 9\n",
      "by : 7\n",
      "charles : 4\n",
      "dickens : 4\n",
      "this : 9\n",
      "is : 5\n",
      "for : 3\n",
      "use : 1\n",
      "anyone : 1\n",
      "anywhere : 1\n",
      "in : 9\n",
      "united : 2\n",
      "states : 2\n",
      "and : 24\n",
      "most : 3\n",
      "other : 1\n",
      "parts : 1\n",
      "world : 1\n",
      "at : 4\n",
      "no : 2\n",
      "cost : 1\n",
      "with : 8\n",
      "almost : 1\n",
      "restrictions : 1\n",
      "whatsoever : 1\n",
      "you : 3\n",
      "may : 3\n",
      "copy : 1\n",
      "it : 3\n",
      "give : 1\n",
      "away : 1\n",
      "or : 3\n",
      "reuse : 1\n",
      "under : 1\n",
      "terms : 1\n",
      "license : 1\n",
      "included : 1\n",
      "online : 1\n",
      "wwwgutenbergorg : 1\n",
      "if : 1\n",
      "are : 5\n",
      "not : 2\n",
      "located : 2\n",
      "youll : 1\n",
      "have : 2\n",
      "to : 14\n",
      "check : 2\n",
      "laws : 1\n",
      "country : 1\n",
      "where : 2\n",
      "before : 2\n",
      "using : 1\n",
      "title : 1\n",
      "author : 1\n",
      "release : 1\n",
      "date : 1\n",
      "november : 2\n",
      "1996 : 1\n",
      "730 : 1\n",
      "recently : 1\n",
      "updated : 1\n",
      "28 : 1\n",
      "2020 : 1\n",
      "language : 1\n",
      "english : 1\n",
      "character : 2\n",
      "set : 1\n",
      "encoding : 1\n",
      "utf8 : 1\n",
      " : 2\n",
      "start : 1\n",
      "produced : 1\n",
      "peggy : 1\n",
      "gaugy : 1\n",
      "leigh : 1\n",
      "little : 1\n",
      "html : 1\n",
      "version : 1\n",
      "al : 1\n",
      "haines : 1\n",
      "parish : 1\n",
      "boy’s : 1\n",
      "progress : 1\n",
      "contents : 1\n",
      "i : 1\n",
      "treats : 4\n",
      "place : 3\n",
      "was : 3\n",
      "born : 1\n",
      "circumstances : 1\n",
      "attending : 1\n",
      "his : 13\n",
      "birth : 1\n",
      "ii : 1\n",
      "twist’s : 1\n",
      "growth : 1\n",
      "education : 1\n",
      "board : 1\n",
      "iii : 1\n",
      "relates : 3\n",
      "how : 3\n",
      "very : 4\n",
      "near : 1\n",
      "getting : 1\n",
      "a : 22\n",
      "which : 10\n",
      "would : 1\n",
      "been : 2\n",
      "sinecure : 1\n",
      "iv : 1\n",
      "being : 3\n",
      "offered : 1\n",
      "another : 1\n",
      "makes : 1\n",
      "first : 2\n",
      "entry : 1\n",
      "into : 2\n",
      "public : 1\n",
      "life : 2\n",
      "v : 1\n",
      "mingles : 1\n",
      "new : 5\n",
      "associates : 2\n",
      "going : 1\n",
      "funeral : 1\n",
      "time : 2\n",
      "he : 5\n",
      "forms : 1\n",
      "an : 3\n",
      "unfavourable : 1\n",
      "notion : 1\n",
      "master’s : 1\n",
      "business : 1\n",
      "vi : 1\n",
      "goaded : 1\n",
      "taunts : 1\n",
      "noah : 1\n",
      "rouses : 1\n",
      "action : 1\n",
      "rather : 1\n",
      "astonishes : 1\n",
      "him : 3\n",
      "vii : 1\n",
      "continues : 1\n",
      "refractory : 1\n",
      "viii : 1\n",
      "walks : 1\n",
      "london : 2\n",
      "encounters : 1\n",
      "on : 5\n",
      "road : 1\n",
      "strange : 1\n",
      "sort : 1\n",
      "young : 2\n",
      "gentleman : 4\n",
      "ix : 1\n",
      "containing : 2\n",
      "further : 2\n",
      "particulars : 3\n",
      "concerning : 2\n",
      "pleasant : 3\n",
      "old : 3\n",
      "hopeful : 1\n",
      "pupils : 1\n",
      "x : 1\n",
      "becomes : 1\n",
      "better : 2\n",
      "acquainted : 1\n",
      "characters : 1\n",
      "purchases : 1\n",
      "experience : 1\n",
      "high : 1\n",
      "price : 1\n",
      "short : 2\n",
      "but : 2\n",
      "important : 1\n",
      "chapter : 2\n",
      "history : 5\n",
      "xi : 1\n",
      "mr : 6\n",
      "fang : 1\n",
      "police : 1\n",
      "magistrate : 1\n",
      "furnishes : 1\n",
      "slight : 1\n",
      "specimen : 1\n",
      "mode : 1\n",
      "administering : 1\n",
      "justice : 1\n",
      "xii : 1\n",
      "taken : 1\n",
      "care : 1\n",
      "than : 1\n",
      "ever : 1\n",
      "narrative : 1\n",
      "reverts : 2\n",
      "merry : 2\n",
      "youthful : 1\n",
      "friends : 4\n",
      "xiii : 1\n",
      "some : 4\n",
      "acquaintances : 1\n",
      "introduced : 1\n",
      "intelligent : 1\n",
      "reader : 1\n",
      "connected : 1\n",
      "whom : 1\n",
      "various : 1\n",
      "matters : 1\n",
      "related : 1\n",
      "appertaining : 1\n",
      "xiv : 1\n",
      "comprising : 1\n",
      "oliver’s : 4\n",
      "stay : 1\n",
      "brownlow’s : 1\n",
      "remarkable : 1\n",
      "prediction : 1\n",
      "one : 2\n",
      "grimwig : 1\n",
      "uttered : 1\n",
      "when : 1\n",
      "went : 1\n",
      "out : 1\n",
      "errand : 1\n",
      "xv : 1\n",
      "showing : 1\n",
      "fond : 1\n",
      "jew : 1\n",
      "miss : 1\n",
      "nancy : 2\n",
      "were : 1\n",
      "xvi : 1\n",
      "what : 2\n",
      "became : 1\n",
      "after : 2\n",
      "had : 1\n",
      "claimed : 1\n",
      "xvii : 1\n",
      "destiny : 1\n",
      "continuing : 1\n",
      "unpropitious : 1\n",
      "brings : 1\n",
      "great : 1\n",
      "man : 1\n",
      "injure : 1\n",
      "reputation : 1\n",
      "xviii : 1\n",
      "passed : 1\n",
      "improving : 1\n",
      "society : 1\n",
      "reputable : 1\n",
      "xix : 1\n",
      "notable : 1\n",
      "plan : 1\n",
      "discussed : 1\n",
      "determined : 1\n",
      "xx : 1\n",
      "wherein : 3\n",
      "delivered : 1\n",
      "over : 1\n",
      "william : 1\n",
      "sikes : 1\n",
      "xxi : 1\n",
      "expedition : 1\n",
      "xxii : 1\n",
      "burglary : 1\n",
      "xxiii : 1\n",
      "contains : 2\n",
      "substance : 1\n",
      "conversation : 2\n",
      "between : 2\n",
      "bumble : 1\n",
      "lady : 2\n",
      "shows : 1\n",
      "that : 1\n",
      "even : 1\n",
      "beadle : 1\n",
      "be : 2\n",
      "susceptible : 1\n",
      "points : 1\n",
      "xxiv : 1\n",
      "poor : 1\n",
      "subject : 1\n",
      "found : 1\n",
      "importance : 2\n",
      "xxv : 1\n",
      "fagin : 1\n",
      "company : 1\n",
      "xxvi : 1\n",
      "mysterious : 1\n",
      "appears : 1\n",
      "upon : 2\n",
      "scene : 2\n",
      "many : 1\n",
      "things : 1\n",
      "inseparable : 1\n",
      "from : 1\n",
      "done : 1\n",
      "performed : 1\n",
      "xxvii : 1\n",
      "atones : 1\n",
      "unpoliteness : 1\n",
      "former : 1\n",
      "deserted : 1\n",
      "unceremoniously : 1\n",
      "xxviii : 1\n",
      "looks : 1\n",
      "proceeds : 1\n",
      "adventures : 1\n",
      "xxix : 1\n",
      "has : 1\n",
      "introductory : 2\n",
      "account : 1\n",
      "inmates : 1\n",
      "house : 1\n",
      "resorted : 1\n",
      "xxx : 1\n",
      "visitors : 1\n",
      "thought : 1\n",
      "xxxi : 1\n",
      "involves : 1\n",
      "critical : 1\n",
      "position : 1\n",
      "xxxii : 1\n",
      "happy : 1\n",
      "began : 1\n",
      "lead : 1\n",
      "kind : 1\n",
      "xxxiii : 1\n",
      "happiness : 1\n",
      "experiences : 1\n",
      "sudden : 1\n",
      "xxxiv : 1\n",
      "relative : 1\n",
      "who : 1\n",
      "now : 1\n",
      "arrives : 1\n",
      "adventure : 2\n",
      "happened : 1\n",
      "xxxv : 1\n",
      "unsatisfactory : 1\n",
      "result : 1\n",
      "harry : 1\n",
      "maylie : 1\n"
     ]
    }
   ],
   "source": [
    "from bs4 import BeautifulSoup\n",
    "from urllib.request import urlopen\n",
    "import re\n",
    "from collections import Counter\n",
    "from urllib import request\n",
    "from bs4 import BeautifulSoup\n",
    "import string \n",
    "\n",
    "url=\"https://www.gutenberg.org/files/730/730-h/730-h.htm\"\n",
    "\n",
    "html = request.urlopen(url).read().decode('utf8')\n",
    "parsedHTML = BeautifulSoup(html, \"html.parser\")\n",
    "readableText = parsedHTML.get_text() \n",
    "readable=readableText\n",
    "words=readable.split()\n",
    "words=words[0:700]  #how many words do you want to count\n",
    "counter = dict() \n",
    "\n",
    "for i in range(len(words)):\n",
    "    \n",
    "    words[i]=words[i].lower()\n",
    "    words[i] = words[i].translate(words[i].maketrans(\"\", \"\", string.punctuation)) \n",
    "    \n",
    "for word in words:  \n",
    "    if word in counter: \n",
    "        counter[word] = counter[word] + 1\n",
    "    else: \n",
    "        counter[word] = 1\n",
    "for key in list(counter.keys()): \n",
    "    print(key, \":\", counter[key]) "
   ]
  },
  {
   "cell_type": "markdown",
   "metadata": {},
   "source": [
    "# Question 7\n",
    "\n",
    "* Write a python function `CountWords` that takes the URL for a text and returns the number of unique words within the text.\n",
    "* Write a python function `Top20Words` that takes the URL for a text and returns the most frequently appearing top 20 words within the text."
   ]
  },
  {
   "cell_type": "code",
   "execution_count": 33,
   "metadata": {},
   "outputs": [
    {
     "data": {
      "text/plain": [
       "58"
      ]
     },
     "execution_count": 33,
     "metadata": {},
     "output_type": "execute_result"
    }
   ],
   "source": [
    "from bs4 import BeautifulSoup\n",
    "from urllib.request import urlopen\n",
    "import re\n",
    "from collections import Counter\n",
    "from urllib import request\n",
    "from bs4 import BeautifulSoup\n",
    "import string \n",
    "\n",
    "\n",
    "def Countwords(url):\n",
    "    html = request.urlopen(url).read().decode('utf8')\n",
    "    parsedHTML = BeautifulSoup(html, \"html.parser\")\n",
    "    readableText = parsedHTML.get_text() \n",
    "    readable=readableText\n",
    "    words=readable.split()\n",
    "    words=words[0:100]\n",
    "    unique=[]\n",
    "    \n",
    "    for i in range(len(words)):\n",
    "    \n",
    "        words[i]=words[i].lower()\n",
    "        words[i] = words[i].translate(words[i].maketrans(\"\", \"\", string.punctuation)) \n",
    "    \n",
    "    for word in words:\n",
    "        if word not in unique:\n",
    "            unique.append(word)\n",
    "    return len(unique)\n",
    "\n",
    "def Top20Words(url):\n",
    "    html = request.urlopen(url).read().decode('utf8')\n",
    "    parsedHTML = BeautifulSoup(html, \"html.parser\")\n",
    "    readableText = parsedHTML.get_text() \n",
    "    readable=readableText\n",
    "    words=readable.split()\n",
    "    words=words[0:100]\n",
    "    counter = dict() \n",
    "    keys=[]\n",
    "    for i in range(len(words)):\n",
    "\n",
    "        words[i]=words[i].lower()\n",
    "        words[i] = words[i].translate(words[i].maketrans(\"\", \"\", string.punctuation)) \n",
    "\n",
    "    for word in words:  \n",
    "        if word in counter: \n",
    "            counter[word] = counter[word] + 1\n",
    "        else: \n",
    "            counter[word] = 1\n",
    "    words=dict(sorted(counter.items(), key=lambda item: item[1]))\n",
    "    key_list = list(words.keys())\n",
    "    key_list.reverse()\n",
    "    result=key_list[0:20]\n",
    "    return result\n",
    "Top20Words(url)\n",
    "Countwords(url)"
   ]
  },
  {
   "cell_type": "code",
   "execution_count": 35,
   "metadata": {},
   "outputs": [
    {
     "data": {
      "text/plain": [
       "['the',\n",
       " 'of',\n",
       " 'ebook',\n",
       " 'it',\n",
       " 'you',\n",
       " 'this',\n",
       " 'gutenberg',\n",
       " 'project',\n",
       " 'located',\n",
       " 'are',\n",
       " 'or',\n",
       " 'with',\n",
       " 'no',\n",
       " 'at',\n",
       " 'and',\n",
       " 'states',\n",
       " 'united',\n",
       " 'in',\n",
       " 'dickens',\n",
       " 'charles']"
      ]
     },
     "execution_count": 35,
     "metadata": {},
     "output_type": "execute_result"
    }
   ],
   "source": [
    "Top20Words(url)\n"
   ]
  },
  {
   "cell_type": "markdown",
   "metadata": {},
   "source": [
    "# Question 8\n",
    "\n",
    "* Pull the [IMKB](https://archive.ics.uci.edu/ml/machine-learning-databases/00247/data_akbilgic.xlsx) data from UCI using pandas.\n",
    "* Plot the TL based ISE and USD based ISE columns together in the same graph.\n",
    "* Calculate how many times `NIKKEI` was higher than `FTSE`."
   ]
  },
  {
   "cell_type": "code",
   "execution_count": null,
   "metadata": {},
   "outputs": [],
   "source": []
  },
  {
   "cell_type": "markdown",
   "metadata": {},
   "source": [
    "# Question 9\n",
    "\n",
    "Using the [networkx](https://networkx.org/) library\n",
    "\n",
    "* Get the [adjacency matrix](https://en.wikipedia.org/wiki/Adjacency_matrix) of the [Peterson graph](https://en.wikipedia.org/wiki/Petersen_graph).\n",
    "* Calculate its eigen-values and eigen-vectors using the [numpy](https://numpy.org/) library.\n",
    "* Repeat the same for a [random 3-regular graph on 10 vertices](https://networkx.org/documentation/networkx-1.10/reference/generated/networkx.generators.random_graphs.random_regular_graph.html)."
   ]
  },
  {
   "cell_type": "code",
   "execution_count": 93,
   "metadata": {},
   "outputs": [
    {
     "data": {
      "image/png": "[encoded data removed]",
      "text/plain": [
       "<Figure size 432x288 with 1 Axes>"
      ]
     },
     "metadata": {},
     "output_type": "display_data"
    },
    {
     "name": "stdout",
     "output_type": "stream",
     "text": [
      "[[0 1 0 0 1 1 0 0 0 0]\n",
      " [1 0 1 0 0 0 1 0 0 0]\n",
      " [0 1 0 1 0 0 0 1 0 0]\n",
      " [0 0 1 0 1 0 0 0 1 0]\n",
      " [1 0 0 1 0 0 0 0 0 1]\n",
      " [1 0 0 0 0 0 0 1 1 0]\n",
      " [0 1 0 0 0 0 0 0 1 1]\n",
      " [0 0 1 0 0 1 0 0 0 1]\n",
      " [0 0 0 1 0 1 1 0 0 0]\n",
      " [0 0 0 0 1 0 1 1 0 0]]\n"
     ]
    },
    {
     "data": {
      "text/plain": [
       "(array([-2.,  1.,  3.,  1., -2., -2., -2.,  1.,  1.,  1.]),\n",
       " array([[ 0.63245553, -0.70710678, -0.31622777,  0.22803907, -0.06499319,\n",
       "          0.00415214,  0.01343213, -0.38389339, -0.22402011,  0.08525466],\n",
       "        [-0.42163702, -0.23570226, -0.31622777, -0.11007689, -0.33717063,\n",
       "         -0.25742869, -0.2034704 , -0.31530957, -0.17260517, -0.11566373],\n",
       "        [ 0.10540926,  0.23570226, -0.31622777, -0.68072603,  0.60220265,\n",
       "          0.05410456, -0.08799161,  0.47669786,  0.46823619, -0.35410848],\n",
       "        [ 0.10540926,  0.23570226, -0.31622777, -0.33750017, -0.48104135,\n",
       "          0.35303336, -0.04930034,  0.42667126,  0.5536392 , -0.604021  ],\n",
       "        [-0.42163702, -0.23570226, -0.31622777,  0.06470678,  0.28100252,\n",
       "         -0.15386136,  0.32733023, -0.11420812,  0.26935585, -0.04112943],\n",
       "        [-0.42163702, -0.23570226, -0.31622777,  0.27340918,  0.1861545 ,\n",
       "          0.40298578, -0.15072408,  0.0456243 , -0.32077079,  0.24204781],\n",
       "        [ 0.10540926,  0.23570226, -0.31622777,  0.34261007,  0.1371318 ,\n",
       "          0.45660069,  0.48150029, -0.40811404, -0.41682124,  0.15319009],\n",
       "        [ 0.10540926,  0.23570226, -0.31622777, -0.23314897, -0.38619332,\n",
       "         -0.20381379,  0.42875397,  0.36533618,  0.08720215,  0.36557625],\n",
       "        [ 0.10540926,  0.23570226, -0.31622777,  0.27851908,  0.07887753,\n",
       "         -0.60630991, -0.14073794,  0.06418151, -0.18395283, -0.20878309],\n",
       "        [ 0.10540926,  0.23570226, -0.31622777,  0.17416788, -0.0159705 ,\n",
       "         -0.04946277, -0.61879224, -0.15698598, -0.06026324,  0.47763691]]))"
      ]
     },
     "execution_count": 93,
     "metadata": {},
     "output_type": "execute_result"
    }
   ],
   "source": [
    "import networkx as nx\n",
    "import matplotlib.pyplot as plt\n",
    "Graph = nx.petersen_graph()\n",
    "nx.draw_shell(Graph, nlist=[range(5, 10), range(5)],  font_weight='bold',node_color=range(10),cmap=plt.cm.Blues,font_color='r',style='dotted')\n",
    "plt.show()\n",
    "a = np.array(nx.adjacency_matrix(Graph).todense())\n",
    "print(a)\n",
    "np.linalg.eig(a)\n"
   ]
  },
  {
   "cell_type": "code",
   "execution_count": 94,
   "metadata": {},
   "outputs": [
    {
     "name": "stdout",
     "output_type": "stream",
     "text": [
      "[-2.  1.  3.  1. -2. -2. -2.  1.  1.  1.]\n"
     ]
    }
   ],
   "source": [
    "eigenvectors = np.linalg.eigvals(a)\n",
    ">>> print(eigenvectors )\n"
   ]
  },
  {
   "cell_type": "code",
   "execution_count": null,
   "metadata": {},
   "outputs": [],
   "source": []
  },
  {
   "cell_type": "code",
   "execution_count": null,
   "metadata": {},
   "outputs": [],
   "source": []
  },
  {
   "cell_type": "code",
   "execution_count": 84,
   "metadata": {
    "scrolled": true
   },
   "outputs": [
    {
     "data": {
      "image/png": "[encoded data removed]",
      "text/plain": [
       "<Figure size 432x288 with 1 Axes>"
      ]
     },
     "metadata": {},
     "output_type": "display_data"
    },
    {
     "name": "stdout",
     "output_type": "stream",
     "text": [
      "[[0 1 0 0 1 1 0 0 0 0]\n",
      " [1 0 1 0 0 0 1 0 0 0]\n",
      " [0 1 0 1 0 0 0 1 0 0]\n",
      " [0 0 1 0 1 0 0 0 1 0]\n",
      " [1 0 0 1 0 0 0 0 0 1]\n",
      " [1 0 0 0 0 0 0 1 1 0]\n",
      " [0 1 0 0 0 0 0 0 1 1]\n",
      " [0 0 1 0 0 1 0 0 0 1]\n",
      " [0 0 0 1 0 1 1 0 0 0]\n",
      " [0 0 0 0 1 0 1 1 0 0]]\n"
     ]
    },
    {
     "data": {
      "text/plain": [
       "(array([-2.,  1.,  3.,  1., -2., -2., -2.,  1.,  1.,  1.]),\n",
       " array([[ 0.63245553, -0.70710678, -0.31622777,  0.22803907, -0.06499319,\n",
       "          0.00415214,  0.01343213, -0.38389339, -0.22402011,  0.08525466],\n",
       "        [-0.42163702, -0.23570226, -0.31622777, -0.11007689, -0.33717063,\n",
       "         -0.25742869, -0.2034704 , -0.31530957, -0.17260517, -0.11566373],\n",
       "        [ 0.10540926,  0.23570226, -0.31622777, -0.68072603,  0.60220265,\n",
       "          0.05410456, -0.08799161,  0.47669786,  0.46823619, -0.35410848],\n",
       "        [ 0.10540926,  0.23570226, -0.31622777, -0.33750017, -0.48104135,\n",
       "          0.35303336, -0.04930034,  0.42667126,  0.5536392 , -0.604021  ],\n",
       "        [-0.42163702, -0.23570226, -0.31622777,  0.06470678,  0.28100252,\n",
       "         -0.15386136,  0.32733023, -0.11420812,  0.26935585, -0.04112943],\n",
       "        [-0.42163702, -0.23570226, -0.31622777,  0.27340918,  0.1861545 ,\n",
       "          0.40298578, -0.15072408,  0.0456243 , -0.32077079,  0.24204781],\n",
       "        [ 0.10540926,  0.23570226, -0.31622777,  0.34261007,  0.1371318 ,\n",
       "          0.45660069,  0.48150029, -0.40811404, -0.41682124,  0.15319009],\n",
       "        [ 0.10540926,  0.23570226, -0.31622777, -0.23314897, -0.38619332,\n",
       "         -0.20381379,  0.42875397,  0.36533618,  0.08720215,  0.36557625],\n",
       "        [ 0.10540926,  0.23570226, -0.31622777,  0.27851908,  0.07887753,\n",
       "         -0.60630991, -0.14073794,  0.06418151, -0.18395283, -0.20878309],\n",
       "        [ 0.10540926,  0.23570226, -0.31622777,  0.17416788, -0.0159705 ,\n",
       "         -0.04946277, -0.61879224, -0.15698598, -0.06026324,  0.47763691]]))"
      ]
     },
     "execution_count": 84,
     "metadata": {},
     "output_type": "execute_result"
    }
   ],
   "source": [
    "\n",
    "import networkx as nx\n",
    "import matplotlib.pyplot as plt\n",
    "\n",
    "Graph = nx.petersen_graph()\n",
    "nx.draw_shell(Graph, nlist=[range(5, 10), range(7)], font_weight='bold',node_color=range(10),cmap=plt.cm.Blues,font_color='r',style='dotted')\n",
    "plt.show()\n",
    "B = np.array(nx.adjacency_matrix(Graph).todense())\n",
    "\n",
    "print(A)\n",
    "\n",
    "np.linalg.eig(B)\n",
    "\n",
    "\n",
    "\n"
   ]
  },
  {
   "cell_type": "code",
   "execution_count": 92,
   "metadata": {},
   "outputs": [
    {
     "name": "stdout",
     "output_type": "stream",
     "text": [
      "[-2.  1.  3.  1. -2. -2. -2.  1.  1.  1.]\n"
     ]
    }
   ],
   "source": [
    "eigenvectors = np.linalg.eigvals(B)\n",
    ">>> print(eigenvectors )\n"
   ]
  },
  {
   "cell_type": "code",
   "execution_count": 17,
   "metadata": {},
   "outputs": [
    {
     "data": {
      "image/png": "[encoded data removed]",
      "text/plain": [
       "<Figure size 432x288 with 1 Axes>"
      ]
     },
     "metadata": {},
     "output_type": "display_data"
    }
   ],
   "source": [
    "import matplotlib.pyplot as plt\n",
    "import networkx as nx\n",
    "P = nx.random_regular_graph(3,10)\n",
    "nx.draw_shell(P, nlist=[range(3, 10), range(7)], font_weight='bold',node_color=range(10),cmap = plt.cm.Blues,font_color='r',style='dotted')\n",
    "\n",
    "\n",
    "\n"
   ]
  },
  {
   "cell_type": "code",
   "execution_count": 19,
   "metadata": {},
   "outputs": [
    {
     "name": "stdout",
     "output_type": "stream",
     "text": [
      "[[0 1 0 0 1 0 0 1 0 0]\n",
      " [1 0 0 0 1 0 0 0 0 1]\n",
      " [0 0 0 1 0 1 0 0 0 1]\n",
      " [0 0 1 0 0 0 1 1 0 0]\n",
      " [1 1 0 0 0 1 0 0 0 0]\n",
      " [0 0 1 0 1 0 0 0 1 0]\n",
      " [0 0 0 1 0 0 0 1 1 0]\n",
      " [1 0 0 1 0 0 1 0 0 0]\n",
      " [0 0 0 0 0 1 1 0 0 1]\n",
      " [0 1 1 0 0 0 0 0 1 0]]\n"
     ]
    }
   ],
   "source": [
    "import numpy as np\n",
    "\n",
    "matrix = np.array(nx.adjacency_matrix(P).todense())\n",
    "plt.show()\n",
    "\n",
    "print(matrix)"
   ]
  },
  {
   "cell_type": "code",
   "execution_count": 20,
   "metadata": {},
   "outputs": [
    {
     "name": "stdout",
     "output_type": "stream",
     "text": [
      "[ 3.          1.93543233  1.61803399 -2.47283391 -0.61803399 -1.46259842\n",
      " -1.61803399 -1.61803399  0.61803399  0.61803399]\n"
     ]
    }
   ],
   "source": [
    "eigenvectors = np.linalg.eigvals(matrix)\n",
    ">>> print(eigenvectors )\n"
   ]
  },
  {
   "cell_type": "code",
   "execution_count": null,
   "metadata": {},
   "outputs": [],
   "source": []
  }
 ],
 "metadata": {
  "kernelspec": {
   "display_name": "Python 3",
   "language": "python",
   "name": "python3"
  },
  "language_info": {
   "codemirror_mode": {
    "name": "ipython",
    "version": 3
   },
   "file_extension": ".py",
   "mimetype": "text/x-python",
   "name": "python",
   "nbconvert_exporter": "python",
   "pygments_lexer": "ipython3",
   "version": "3.8.3"
  }
 },
 "nbformat": 4,
 "nbformat_minor": 4
}
